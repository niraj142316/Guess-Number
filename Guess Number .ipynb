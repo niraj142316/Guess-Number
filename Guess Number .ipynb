{
 "cells": [
  {
   "cell_type": "code",
   "execution_count": 2,
   "id": "2f3a7e3b",
   "metadata": {},
   "outputs": [
    {
     "name": "stdout",
     "output_type": "stream",
     "text": [
      "Enter the lower end: 0\n",
      "Enter the upper end: 10\n",
      "\n",
      " you have only  3  chances to guess the number.\n",
      "enter the guess number....6\n",
      "Guessed number is greater\n",
      "enter the guess number....4\n",
      "Congratulations you are correctly guessed the number\n"
     ]
    }
   ],
   "source": [
    "import math\n",
    "import random\n",
    "\n",
    "lower=int(input(\"Enter the lower end: \"))\n",
    "upper=int(input(\"Enter the upper end: \"))\n",
    "\n",
    "x=random.randint(lower, upper)\n",
    "y= round(math.log(upper-lower+1, 2))\n",
    "\n",
    "print(\"\\n you have only \",y,\" chances to guess the number.\")\n",
    "count=0\n",
    "\n",
    "while count <= y:\n",
    "    count+=1\n",
    "    guess=int(input(\"enter the guess number....\"))\n",
    "    if x==guess:\n",
    "        print(\"Congratulations you are correctly guessed the number\")\n",
    "        break\n",
    "    elif count==y:\n",
    "        print(\"you are missed your all chances the number is \", x,\" better luck for the next time\")\n",
    "        break\n",
    "    elif x<guess:\n",
    "        print(\"Guessed number is greater\")\n",
    "    elif x>guess:\n",
    "        print(\"Guessed number is smaller\")\n",
    "        \n"
   ]
  },
  {
   "cell_type": "code",
   "execution_count": null,
   "id": "396128c4",
   "metadata": {},
   "outputs": [],
   "source": []
  }
 ],
 "metadata": {
  "kernelspec": {
   "display_name": "Python 3 (ipykernel)",
   "language": "python",
   "name": "python3"
  },
  "language_info": {
   "codemirror_mode": {
    "name": "ipython",
    "version": 3
   },
   "file_extension": ".py",
   "mimetype": "text/x-python",
   "name": "python",
   "nbconvert_exporter": "python",
   "pygments_lexer": "ipython3",
   "version": "3.9.7"
  }
 },
 "nbformat": 4,
 "nbformat_minor": 5
}
